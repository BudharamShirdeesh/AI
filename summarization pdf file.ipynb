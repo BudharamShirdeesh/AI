{
 "cells": [
  {
   "cell_type": "code",
   "execution_count": null,
   "id": "753d700b",
   "metadata": {},
   "outputs": [],
   "source": [
    "! pip install pymupdf transformers torch\n"
   ]
  },
  {
   "cell_type": "code",
   "execution_count": null,
   "id": "3d16e9c1",
   "metadata": {},
   "outputs": [],
   "source": [
    "import fitz\n",
    "from transformers import pipeline\n",
    "import json\n",
    "import os\n",
    "\n",
    "# pdf\n",
    "def extract_text_from_pdf(pdf_path):\n",
    "    doc = fitz.open(pdf_path)\n",
    "    text = \"\"\n",
    "    for page in doc:\n",
    "        text += page.get_text()\n",
    "    return text\n",
    "\n",
    "# summarize\n",
    "def summarize_text(text, max_length=200, min_length=50):\n",
    "    summarizer = pipeline(\"summarization\", model=\"facebook/bart-large-cnn\")\n",
    "    chunks = [text[i:i+1024] for i in range(0, len(text), 1024)]\n",
    "    summary = \"\"\n",
    "    for chunk in chunks:\n",
    "        result = summarizer(chunk, max_length=max_length, min_length=min_length, do_sample=False)\n",
    "        summary += result[0]['summary_text'] + \" \"\n",
    "    return summary.strip()\n",
    "\n",
    "# output json\n",
    "def save_to_json(pdf_path, original_text, summary, output_path=\"summary_output.json\"):\n",
    "    data = {\n",
    "        \"file_name\": os.path.basename(pdf_path),\n",
    "        \"original_text\": original_text,\n",
    "        \"summary\": summary\n",
    "    }\n",
    "    with open(output_path, \"w\", encoding=\"utf-8\") as f:\n",
    "        json.dump(data, f, indent=4, ensure_ascii=False)\n",
    "    print(f\"Output saved to {output_path}\")\n",
    "\n",
    "# main for summary as JSON output format\n",
    "if __name__ == \"__main__\":\n",
    "    pdf_path = \"Base.pdf\"  #file path\n",
    "    text = extract_text_from_pdf(pdf_path)\n",
    "    summary = summarize_text(text)\n",
    "    save_to_json(pdf_path, text, summary)\n",
    "\n",
    "#main for summary as text format\n",
    "if __name__ == \"__main__\":\n",
    "    pdf_path = \"sample.pdf\"  #file path\n",
    "    text = extract_text_from_pdf(pdf_path)\n",
    "    summary = summarize_text(text)\n",
    "    print(\"Summary:\\n\", summary)\n",
    "\n",
    "\n"
   ]
  }
 ],
 "metadata": {
  "language_info": {
   "name": "python"
  }
 },
 "nbformat": 4,
 "nbformat_minor": 5
}
