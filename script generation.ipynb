{
 "cells": [
  {
   "cell_type": "code",
   "execution_count": null,
   "id": "6bae2ae3",
   "metadata": {},
   "outputs": [],
   "source": [
    "! pip install transformers wikipedia torch\n"
   ]
  },
  {
   "cell_type": "code",
   "execution_count": null,
   "id": "9a42c0e0",
   "metadata": {},
   "outputs": [],
   "source": [
    "\n",
    "import wikipedia\n",
    "from transformers import pipeline, AutoTokenizer, AutoModelForSeq2SeqLM\n",
    "\n",
    "# model and tokenizer\n",
    "model_name = \"google/flan-t5-base\"\n",
    "tokenizer = AutoTokenizer.from_pretrained(model_name)\n",
    "model = AutoModelForSeq2SeqLM.from_pretrained(model_name)\n",
    "generator = pipeline(\"text2text-generation\", model=model, tokenizer=tokenizer)\n",
    "\n",
    "#  input\n",
    "prompt = input(\"Plug in your YouTube topic: \")\n",
    "\n",
    "# generate YouTube Title\n",
    "title_prompt = f\"write me a youtube video title about {prompt}\"\n",
    "title_result = generator(title_prompt, max_length=30, do_sample=True)[0]['generated_text']\n",
    "\n",
    "# Wikipedia Research\n",
    "try:\n",
    "    wiki_research = wikipedia.summary(prompt, sentences=3)\n",
    "except Exception as e:\n",
    "    wiki_research = f\"Wikipedia research not available due to: {str(e)}\"\n",
    "\n",
    "# generate YouTube Script\n",
    "script_prompt = f\"write me a youtube video script based on this title TITLE: {title_result} while leveraging this wikipedia research: {wiki_research}\"\n",
    "script_result = generator(script_prompt, max_length=512, do_sample=True)[0]['generated_text']\n",
    "\n",
    "# output\n",
    "print(\"\\n📝 Generated Title:\\n\", title_result)\n",
    "print(\"\\n📚 Wikipedia Research:\\n\", wiki_research)\n",
    "print(\"\\n🎬 Generated Script:\\n\", script_result)\n"
   ]
  },
  {
   "cell_type": "code",
   "execution_count": null,
   "id": "1be356d0",
   "metadata": {},
   "outputs": [],
   "source": []
  }
 ],
 "metadata": {
  "kernelspec": {
   "display_name": "Python 3",
   "language": "python",
   "name": "python3"
  },
  "language_info": {
   "codemirror_mode": {
    "name": "ipython",
    "version": 3
   },
   "file_extension": ".py",
   "mimetype": "text/x-python",
   "name": "python",
   "nbconvert_exporter": "python",
   "pygments_lexer": "ipython3",
   "version": "3.12.2"
  }
 },
 "nbformat": 4,
 "nbformat_minor": 5
}
